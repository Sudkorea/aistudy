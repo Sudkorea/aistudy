{
 "cells": [
  {
   "cell_type": "code",
   "execution_count": 1,
   "id": "322f70fb",
   "metadata": {},
   "outputs": [],
   "source": [
    "from typing import Tuple\n",
    "import math\n",
    "\n",
    "def normal_approximation_to_binomial(n: int, p:float) -> Tuple[float, float]:\n",
    "    mu = p * n\n",
    "    sigma = math.sqrt(p * (1-p) * n)\n",
    "    return mu, sigma"
   ]
  },
  {
   "cell_type": "code",
   "execution_count": 1,
   "id": "ff55d1a6",
   "metadata": {},
   "outputs": [],
   "source": [
    "def normal_cdf(x: float, mu: float = 0, sigma: float = 1):\n",
    "    return( 1 + math.erf((x-mu)/math.sqrt(2)/sigma))/2\n",
    "\n",
    "def normal_probability_below(x: float, mu: float = 0, sigma: float = 1):\n",
    "        return( 1 + math.erf((x-mu)/math.sqrt(2)/sigma))/2"
   ]
  },
  {
   "cell_type": "code",
   "execution_count": null,
   "id": "5a0bbd3c",
   "metadata": {},
   "outputs": [],
   "source": [
    "def normal_probability_above(lo: float,\n",
    "                             mu:float=0,\n",
    "                             sigma:float=1) -> float:\n",
    "    return 1-normal_cdf(lo, mu, sigma)\n",
    "\n"
   ]
  }
 ],
 "metadata": {
  "kernelspec": {
   "display_name": "kaggle",
   "language": "python",
   "name": "python3"
  },
  "language_info": {
   "codemirror_mode": {
    "name": "ipython",
    "version": 3
   },
   "file_extension": ".py",
   "mimetype": "text/x-python",
   "name": "python",
   "nbconvert_exporter": "python",
   "pygments_lexer": "ipython3",
   "version": "3.8.20"
  }
 },
 "nbformat": 4,
 "nbformat_minor": 5
}
